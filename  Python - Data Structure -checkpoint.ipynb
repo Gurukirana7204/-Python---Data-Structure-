{
 "cells": [
  {
   "cell_type": "markdown",
   "id": "21aec72c-a776-4bfb-b422-4c7f0ec21341",
   "metadata": {},
   "source": [
    "1. Discuss string slicing and provide examples."
   ]
  },
  {
   "cell_type": "code",
   "execution_count": 3,
   "id": "25a7d3d7-bf07-49c9-9ebe-08e87bc54bea",
   "metadata": {},
   "outputs": [],
   "source": [
    "#String is a sequence of character, represent and manipulate textual data.\n",
    "#characters are represented using numerical values, each character is assigned a unique"
   ]
  },
  {
   "cell_type": "code",
   "execution_count": 9,
   "id": "6a0a472f-04cc-4ff3-b13f-63972642f066",
   "metadata": {},
   "outputs": [
    {
     "data": {
      "text/plain": [
       "'A'"
      ]
     },
     "execution_count": 9,
     "metadata": {},
     "output_type": "execute_result"
    }
   ],
   "source": [
    "chr(65)"
   ]
  },
  {
   "cell_type": "code",
   "execution_count": 15,
   "id": "56687f65-366a-4270-897e-44381b169568",
   "metadata": {},
   "outputs": [
    {
     "data": {
      "text/plain": [
       "65"
      ]
     },
     "execution_count": 15,
     "metadata": {},
     "output_type": "execute_result"
    }
   ],
   "source": [
    "ord(\"A\")"
   ]
  },
  {
   "cell_type": "code",
   "execution_count": null,
   "id": "39230c12-c229-47c2-8a7b-532a6ecda232",
   "metadata": {},
   "outputs": [],
   "source": [
    " "
   ]
  },
  {
   "cell_type": "code",
   "execution_count": 18,
   "id": "4cb4d1b6-202f-40da-874e-8bfc7a3cae16",
   "metadata": {},
   "outputs": [],
   "source": [
    "a = \"Raju gouda\""
   ]
  },
  {
   "cell_type": "code",
   "execution_count": 20,
   "id": "f6aec9e4-6252-4b2c-8cf6-a22480438cf0",
   "metadata": {},
   "outputs": [
    {
     "data": {
      "text/plain": [
       "'Raju gouda'"
      ]
     },
     "execution_count": 20,
     "metadata": {},
     "output_type": "execute_result"
    }
   ],
   "source": [
    "a"
   ]
  },
  {
   "cell_type": "code",
   "execution_count": 22,
   "id": "658b5ddd-7c85-4557-af64-bb830d9c9249",
   "metadata": {},
   "outputs": [
    {
     "data": {
      "text/plain": [
       "\"I'm Guru\\nI working in Banglore\\nI took the course of Data scientist\""
      ]
     },
     "execution_count": 22,
     "metadata": {},
     "output_type": "execute_result"
    }
   ],
   "source": [
    "'''I'm Guru\n",
    "I working in Banglore\n",
    "I took the course of Data scientist'''"
   ]
  },
  {
   "cell_type": "code",
   "execution_count": null,
   "id": "08db33c7-737f-4bdc-b04c-dc694cfa10cc",
   "metadata": {},
   "outputs": [],
   "source": []
  },
  {
   "cell_type": "code",
   "execution_count": 25,
   "id": "d0113874-d16c-4d86-b954-fb1a64261200",
   "metadata": {},
   "outputs": [],
   "source": [
    "#concatenation "
   ]
  },
  {
   "cell_type": "code",
   "execution_count": 29,
   "id": "9db11819-d14d-4118-b966-3f2dc2982bce",
   "metadata": {},
   "outputs": [
    {
     "data": {
      "text/plain": [
       "'Hello Guru'"
      ]
     },
     "execution_count": 29,
     "metadata": {},
     "output_type": "execute_result"
    }
   ],
   "source": [
    "\"Hello\" + \" Guru\""
   ]
  },
  {
   "cell_type": "code",
   "execution_count": 31,
   "id": "db041771-f8dc-46ba-b8fb-87cb93e9210a",
   "metadata": {},
   "outputs": [
    {
     "data": {
      "text/plain": [
       "'Ragu Veera'"
      ]
     },
     "execution_count": 31,
     "metadata": {},
     "output_type": "execute_result"
    }
   ],
   "source": [
    "a = \"Ragu\"\n",
    "b = \"Veera\"\n",
    "a +\" \"+ b"
   ]
  },
  {
   "cell_type": "code",
   "execution_count": null,
   "id": "3224d618-e558-48ff-a384-c5ae665272cd",
   "metadata": {},
   "outputs": [],
   "source": []
  },
  {
   "cell_type": "code",
   "execution_count": 35,
   "id": "59305af9-b30b-45d8-9fd2-9d8adc1ba2e0",
   "metadata": {},
   "outputs": [],
   "source": [
    "#slicing"
   ]
  },
  {
   "cell_type": "code",
   "execution_count": 37,
   "id": "d151210d-70fa-4278-8c1a-ff3af5e92da8",
   "metadata": {},
   "outputs": [],
   "source": [
    "a = \"Pwskills\""
   ]
  },
  {
   "cell_type": "code",
   "execution_count": 39,
   "id": "999009be-8ebe-4f30-aab0-f4f612dc73a4",
   "metadata": {},
   "outputs": [
    {
     "data": {
      "text/plain": [
       "'P'"
      ]
     },
     "execution_count": 39,
     "metadata": {},
     "output_type": "execute_result"
    }
   ],
   "source": [
    "a[0]"
   ]
  },
  {
   "cell_type": "code",
   "execution_count": 41,
   "id": "45788b37-5862-48db-b833-5d200109777b",
   "metadata": {},
   "outputs": [
    {
     "data": {
      "text/plain": [
       "'w'"
      ]
     },
     "execution_count": 41,
     "metadata": {},
     "output_type": "execute_result"
    }
   ],
   "source": [
    "a[1]"
   ]
  },
  {
   "cell_type": "code",
   "execution_count": 43,
   "id": "d834c679-95ae-485d-82f4-36bf42da8af5",
   "metadata": {},
   "outputs": [],
   "source": [
    "str = \"I am a good student\""
   ]
  },
  {
   "cell_type": "code",
   "execution_count": 45,
   "id": "b26f3429-9aed-418b-ae27-117d97b0c8d5",
   "metadata": {},
   "outputs": [
    {
     "data": {
      "text/plain": [
       "'I'"
      ]
     },
     "execution_count": 45,
     "metadata": {},
     "output_type": "execute_result"
    }
   ],
   "source": [
    "str[0]"
   ]
  },
  {
   "cell_type": "code",
   "execution_count": 47,
   "id": "ca78fd09-e200-446c-9c40-f013b4ce4f8c",
   "metadata": {},
   "outputs": [
    {
     "data": {
      "text/plain": [
       "'I am'"
      ]
     },
     "execution_count": 47,
     "metadata": {},
     "output_type": "execute_result"
    }
   ],
   "source": [
    "str[0:4]"
   ]
  },
  {
   "cell_type": "code",
   "execution_count": 49,
   "id": "42d56e6d-ae24-43c1-a03f-70e69ef3eaa5",
   "metadata": {},
   "outputs": [
    {
     "data": {
      "text/plain": [
       "'I am a good student'"
      ]
     },
     "execution_count": 49,
     "metadata": {},
     "output_type": "execute_result"
    }
   ],
   "source": [
    "str[0:]"
   ]
  },
  {
   "cell_type": "code",
   "execution_count": 51,
   "id": "5efef1cd-8526-4d31-a2c6-a3517bb88ba5",
   "metadata": {},
   "outputs": [
    {
     "data": {
      "text/plain": [
       "'t'"
      ]
     },
     "execution_count": 51,
     "metadata": {},
     "output_type": "execute_result"
    }
   ],
   "source": [
    "str[-1]"
   ]
  },
  {
   "cell_type": "code",
   "execution_count": 53,
   "id": "9443701a-8595-45fe-ac35-c55104efbd67",
   "metadata": {},
   "outputs": [
    {
     "data": {
      "text/plain": [
       "'student'"
      ]
     },
     "execution_count": 53,
     "metadata": {},
     "output_type": "execute_result"
    }
   ],
   "source": [
    "str[-7:]"
   ]
  },
  {
   "cell_type": "code",
   "execution_count": null,
   "id": "2a517b1a-a949-4fb7-b917-cf88c9e86757",
   "metadata": {},
   "outputs": [],
   "source": []
  },
  {
   "cell_type": "code",
   "execution_count": 56,
   "id": "6ffddf9e-ea3f-485c-8462-8f1e92e33c5f",
   "metadata": {},
   "outputs": [],
   "source": [
    "a = \"hello world\""
   ]
  },
  {
   "cell_type": "code",
   "execution_count": 60,
   "id": "21c169b1-c202-47e5-a657-75ae6d82c1aa",
   "metadata": {},
   "outputs": [
    {
     "data": {
      "text/plain": [
       "'hello'"
      ]
     },
     "execution_count": 60,
     "metadata": {},
     "output_type": "execute_result"
    }
   ],
   "source": [
    "a[0:5]"
   ]
  },
  {
   "cell_type": "code",
   "execution_count": 62,
   "id": "583eef93-44b4-49cb-bc4b-2e11c39e45e5",
   "metadata": {},
   "outputs": [
    {
     "data": {
      "text/plain": [
       "'hlo'"
      ]
     },
     "execution_count": 62,
     "metadata": {},
     "output_type": "execute_result"
    }
   ],
   "source": [
    "a[0:5:2]"
   ]
  },
  {
   "cell_type": "code",
   "execution_count": 64,
   "id": "a59dce7e-bcb9-4cac-8c98-9e5213719863",
   "metadata": {},
   "outputs": [
    {
     "data": {
      "text/plain": [
       "'dlrow olleh'"
      ]
     },
     "execution_count": 64,
     "metadata": {},
     "output_type": "execute_result"
    }
   ],
   "source": [
    "a[::-1]"
   ]
  },
  {
   "cell_type": "code",
   "execution_count": null,
   "id": "305bd8d0-0c68-4448-937c-450e1a1af814",
   "metadata": {},
   "outputs": [],
   "source": []
  },
  {
   "cell_type": "markdown",
   "id": "6959cc65-e6c1-4d2a-8625-33980cd3f49b",
   "metadata": {},
   "source": [
    "2. Explain the key features of lists in Python"
   ]
  },
  {
   "cell_type": "code",
   "execution_count": 70,
   "id": "66775d95-65d2-4c4a-a2cf-e44253b5f713",
   "metadata": {},
   "outputs": [],
   "source": [
    "#list are collection of iteams\n",
    "#list is like a bag which can store everying"
   ]
  },
  {
   "cell_type": "code",
   "execution_count": 136,
   "id": "75ff9f2f-4269-4f1b-95ed-791d235adbd0",
   "metadata": {},
   "outputs": [],
   "source": [
    "#key features of lists\n",
    "\n",
    "#Iterable\n",
    "#Ordered\n",
    "#Indexed\n",
    "#Mutable\n",
    "#allow duplicated values\n",
    "#Contain items of different type"
   ]
  },
  {
   "cell_type": "code",
   "execution_count": null,
   "id": "201ce5bd-5b04-44be-9be4-f73c99f621c1",
   "metadata": {},
   "outputs": [],
   "source": []
  },
  {
   "cell_type": "markdown",
   "id": "5a7203c8-b091-4e22-8a35-4dd85b9816e5",
   "metadata": {},
   "source": [
    "3. Describe how to access, modify, and delete elements in a list with examples"
   ]
  },
  {
   "cell_type": "code",
   "execution_count": 143,
   "id": "2012726f-7064-4752-8192-f795725427ad",
   "metadata": {},
   "outputs": [],
   "source": [
    "#Elements to be added: Methods like append(), insert(), and extend()\n",
    "#Deleting Elements: You can delete elements from a list using methods such as remove(), pop(), and del statement"
   ]
  },
  {
   "cell_type": "code",
   "execution_count": 153,
   "id": "c16b3739-4459-4e64-a0c4-cf3cfceb5c90",
   "metadata": {},
   "outputs": [],
   "source": [
    "z = [\"Milk\", \"Orange\", 1, 2.2, True, 5+8j]"
   ]
  },
  {
   "cell_type": "code",
   "execution_count": 155,
   "id": "217d9b25-b1b7-42e3-8213-3c55b9d08834",
   "metadata": {},
   "outputs": [
    {
     "data": {
      "text/plain": [
       "list"
      ]
     },
     "execution_count": 155,
     "metadata": {},
     "output_type": "execute_result"
    }
   ],
   "source": [
    "type(z)"
   ]
  },
  {
   "cell_type": "code",
   "execution_count": 157,
   "id": "a708990a-9dd4-4cc3-8d92-74370cf2a015",
   "metadata": {},
   "outputs": [
    {
     "data": {
      "text/plain": [
       "['Milk', 'Orange', 1, 2.2]"
      ]
     },
     "execution_count": 157,
     "metadata": {},
     "output_type": "execute_result"
    }
   ],
   "source": [
    "z[0:4]"
   ]
  },
  {
   "cell_type": "code",
   "execution_count": 163,
   "id": "fbecc734-408f-481b-9557-95d5101bf424",
   "metadata": {},
   "outputs": [
    {
     "data": {
      "text/plain": [
       "[True, (5+8j)]"
      ]
     },
     "execution_count": 163,
     "metadata": {},
     "output_type": "execute_result"
    }
   ],
   "source": [
    "z[4:7]"
   ]
  },
  {
   "cell_type": "code",
   "execution_count": 165,
   "id": "1d2bf933-1e3b-475a-9a19-7c14f314fea4",
   "metadata": {},
   "outputs": [
    {
     "data": {
      "text/plain": [
       "(5+8j)"
      ]
     },
     "execution_count": 165,
     "metadata": {},
     "output_type": "execute_result"
    }
   ],
   "source": [
    "z[-1]"
   ]
  },
  {
   "cell_type": "code",
   "execution_count": 167,
   "id": "4dfdd90e-96e4-41d3-8e92-7a72260a0d46",
   "metadata": {},
   "outputs": [],
   "source": [
    "lis = [\"Apple\", \"Banana\"]"
   ]
  },
  {
   "cell_type": "code",
   "execution_count": 169,
   "id": "5c062c50-fdd7-4c43-8e38-e09712ca7d56",
   "metadata": {},
   "outputs": [
    {
     "data": {
      "text/plain": [
       "['Apple', 'Banana']"
      ]
     },
     "execution_count": 169,
     "metadata": {},
     "output_type": "execute_result"
    }
   ],
   "source": [
    "lis"
   ]
  },
  {
   "cell_type": "code",
   "execution_count": 173,
   "id": "0a786142-beb1-4fab-b7f1-6a62f66ec13f",
   "metadata": {},
   "outputs": [],
   "source": [
    "lis.append(\"Orange\")"
   ]
  },
  {
   "cell_type": "code",
   "execution_count": 175,
   "id": "7a5cc6a1-31b1-4c04-9bdf-feee7ff5f314",
   "metadata": {},
   "outputs": [
    {
     "data": {
      "text/plain": [
       "['Apple', 'Banana', 'Orange']"
      ]
     },
     "execution_count": 175,
     "metadata": {},
     "output_type": "execute_result"
    }
   ],
   "source": [
    "lis"
   ]
  },
  {
   "cell_type": "code",
   "execution_count": 177,
   "id": "8824863f-ced1-4b05-aa84-d7c18c8032dd",
   "metadata": {},
   "outputs": [],
   "source": [
    "lis.remove(\"Apple\")"
   ]
  },
  {
   "cell_type": "code",
   "execution_count": 180,
   "id": "3bbf4545-d235-4621-b3e5-9fc93d69f3b0",
   "metadata": {},
   "outputs": [
    {
     "data": {
      "text/plain": [
       "['Banana', 'Orange']"
      ]
     },
     "execution_count": 180,
     "metadata": {},
     "output_type": "execute_result"
    }
   ],
   "source": [
    "lis"
   ]
  },
  {
   "cell_type": "code",
   "execution_count": 182,
   "id": "ebee7e18-3cbe-4726-8e09-f30510ade1ab",
   "metadata": {},
   "outputs": [],
   "source": [
    "a = [\"Mango\", \"Brinjal\", \"Banana\", \"apple\"]"
   ]
  },
  {
   "cell_type": "code",
   "execution_count": 184,
   "id": "050039f1-20a6-4511-9ecb-46be448dacf2",
   "metadata": {},
   "outputs": [
    {
     "data": {
      "text/plain": [
       "['Mango', 'Brinjal', 'Banana', 'apple']"
      ]
     },
     "execution_count": 184,
     "metadata": {},
     "output_type": "execute_result"
    }
   ],
   "source": [
    "a"
   ]
  },
  {
   "cell_type": "code",
   "execution_count": 188,
   "id": "8e643c96-7b80-4675-b4db-3ce946071052",
   "metadata": {},
   "outputs": [],
   "source": [
    "a.insert(1, \"Rice\")"
   ]
  },
  {
   "cell_type": "code",
   "execution_count": 190,
   "id": "0adf9505-ce06-41a3-99ee-576f1258f19d",
   "metadata": {},
   "outputs": [
    {
     "data": {
      "text/plain": [
       "['Mango', 'Rice', 'Brinjal', 'Banana', 'apple']"
      ]
     },
     "execution_count": 190,
     "metadata": {},
     "output_type": "execute_result"
    }
   ],
   "source": [
    "a"
   ]
  },
  {
   "cell_type": "code",
   "execution_count": null,
   "id": "8b95e71d-ea47-4b8b-95a4-23b014d430b0",
   "metadata": {},
   "outputs": [],
   "source": []
  },
  {
   "cell_type": "code",
   "execution_count": 198,
   "id": "82be1af2-f72c-4179-9122-4cc4d9591f75",
   "metadata": {},
   "outputs": [],
   "source": [
    "my_list = [\"Apple\", \"Banana\", \"Orange\"]\n",
    "bro_list = [\"Rice\", \"Wheat\"]\n",
    "my_list.extend(bro_list)"
   ]
  },
  {
   "cell_type": "code",
   "execution_count": 201,
   "id": "3eef2e9a-1b90-4be2-8836-6e518784d95f",
   "metadata": {},
   "outputs": [
    {
     "data": {
      "text/plain": [
       "['Apple', 'Banana', 'Orange', 'Rice', 'Wheat']"
      ]
     },
     "execution_count": 201,
     "metadata": {},
     "output_type": "execute_result"
    }
   ],
   "source": [
    "my_list"
   ]
  },
  {
   "cell_type": "code",
   "execution_count": 203,
   "id": "1dc3bb81-6667-40b2-988c-510febe05705",
   "metadata": {},
   "outputs": [],
   "source": [
    "bro_list.extend(my_list)"
   ]
  },
  {
   "cell_type": "code",
   "execution_count": 205,
   "id": "f06b2854-0c54-432c-8ce1-6c2a6ecb6d2f",
   "metadata": {},
   "outputs": [
    {
     "data": {
      "text/plain": [
       "['Rice', 'Wheat', 'Apple', 'Banana', 'Orange', 'Rice', 'Wheat']"
      ]
     },
     "execution_count": 205,
     "metadata": {},
     "output_type": "execute_result"
    }
   ],
   "source": [
    "bro_list"
   ]
  },
  {
   "cell_type": "code",
   "execution_count": 213,
   "id": "4c9cb75c-6baf-469f-8f4e-00b49f00e03d",
   "metadata": {},
   "outputs": [],
   "source": [
    "bro_list.remove(\"Rice\")"
   ]
  },
  {
   "cell_type": "code",
   "execution_count": 219,
   "id": "7d900184-d945-4753-af5b-e48574e34789",
   "metadata": {},
   "outputs": [],
   "source": [
    "bro_list.remove(\"Wheat\")"
   ]
  },
  {
   "cell_type": "code",
   "execution_count": 251,
   "id": "44acbe56-19bf-4b68-a2db-84187d91254d",
   "metadata": {},
   "outputs": [
    {
     "data": {
      "text/plain": [
       "['Apple', 'Banana', 'Orange', 'Rice', 'Wheat']"
      ]
     },
     "execution_count": 251,
     "metadata": {},
     "output_type": "execute_result"
    }
   ],
   "source": [
    "bro_list"
   ]
  },
  {
   "cell_type": "code",
   "execution_count": 249,
   "id": "8325419b-41ed-404c-9a71-3a4d8ad1d4b6",
   "metadata": {},
   "outputs": [],
   "source": [
    "#repeatation "
   ]
  },
  {
   "cell_type": "code",
   "execution_count": 223,
   "id": "329b9903-f0df-4c7b-a59f-d3c906f2d6ab",
   "metadata": {},
   "outputs": [
    {
     "data": {
      "text/plain": [
       "[0, 0, 0, 0, 0, 0, 0, 0, 0, 0]"
      ]
     },
     "execution_count": 223,
     "metadata": {},
     "output_type": "execute_result"
    }
   ],
   "source": [
    "[0]*10"
   ]
  },
  {
   "cell_type": "code",
   "execution_count": 229,
   "id": "30567eef-560c-415b-8079-4916e4bfbcc6",
   "metadata": {},
   "outputs": [
    {
     "data": {
      "text/plain": [
       "[1, 2, 3, 1, 2, 3, 1, 2, 3, 1, 2, 3]"
      ]
     },
     "execution_count": 229,
     "metadata": {},
     "output_type": "execute_result"
    }
   ],
   "source": [
    "[1, 2, 3]* 4"
   ]
  },
  {
   "cell_type": "code",
   "execution_count": null,
   "id": "8c43c9ed-fe86-4ebf-b31b-8ae3461338ca",
   "metadata": {},
   "outputs": [],
   "source": []
  },
  {
   "cell_type": "code",
   "execution_count": 243,
   "id": "19ebe5c4-9717-4b13-aab3-5ab4ce3f911b",
   "metadata": {},
   "outputs": [
    {
     "name": "stdout",
     "output_type": "stream",
     "text": [
      "your appointment is today \n",
      "your appointment is today \n",
      "your appointment is today \n",
      "your appointment is today \n",
      "your appointment is today \n",
      "\n"
     ]
    }
   ],
   "source": [
    "msg = \"your appointment is today \\n\"\n",
    "print(msg*5)"
   ]
  },
  {
   "cell_type": "code",
   "execution_count": 253,
   "id": "864b8a56-0e17-4d1d-bf76-5cf79a6a5240",
   "metadata": {},
   "outputs": [],
   "source": [
    "g = [\"milk\", \"Apple\", \"Banana\", \"Orange\"]"
   ]
  },
  {
   "cell_type": "code",
   "execution_count": 257,
   "id": "945c23ff-3c01-4896-bab1-7378e75cbc15",
   "metadata": {},
   "outputs": [
    {
     "data": {
      "text/plain": [
       "True"
      ]
     },
     "execution_count": 257,
     "metadata": {},
     "output_type": "execute_result"
    }
   ],
   "source": [
    "\"milk\" in g"
   ]
  },
  {
   "cell_type": "code",
   "execution_count": null,
   "id": "96776ab1-ea99-49c2-88f5-16939f024cc5",
   "metadata": {},
   "outputs": [],
   "source": []
  },
  {
   "cell_type": "code",
   "execution_count": 259,
   "id": "65ddb97a-ff30-4d63-85f2-0279fa2a5a0c",
   "metadata": {},
   "outputs": [],
   "source": [
    "grocery_list = [\"milk\", \"Apple\", \"Banana\", \"Orange\"]"
   ]
  },
  {
   "cell_type": "code",
   "execution_count": 261,
   "id": "4fcff1cd-3e80-40da-97d3-983ebe9ae0c4",
   "metadata": {},
   "outputs": [],
   "source": [
    "z = grocery_list"
   ]
  },
  {
   "cell_type": "code",
   "execution_count": 265,
   "id": "fbe48da1-6445-4c01-91fe-ea4ece274490",
   "metadata": {},
   "outputs": [
    {
     "data": {
      "text/plain": [
       "['milk', 'Apple', 'Banana', 'Orange']"
      ]
     },
     "execution_count": 265,
     "metadata": {},
     "output_type": "execute_result"
    }
   ],
   "source": [
    "z"
   ]
  },
  {
   "cell_type": "code",
   "execution_count": 269,
   "id": "91112a4a-7170-4c20-8b4c-d3cf5b471147",
   "metadata": {},
   "outputs": [],
   "source": [
    "z[0] = \"potato\""
   ]
  },
  {
   "cell_type": "code",
   "execution_count": 271,
   "id": "49ad052f-716d-4bf1-8c49-3e1e54ae8deb",
   "metadata": {},
   "outputs": [
    {
     "data": {
      "text/plain": [
       "['potato', 'Apple', 'Banana', 'Orange']"
      ]
     },
     "execution_count": 271,
     "metadata": {},
     "output_type": "execute_result"
    }
   ],
   "source": [
    "z"
   ]
  },
  {
   "cell_type": "code",
   "execution_count": 273,
   "id": "ee48c133-9fb5-4fbf-9b79-727fda435451",
   "metadata": {},
   "outputs": [
    {
     "data": {
      "text/plain": [
       "['potato', 'Apple', 'Banana', 'Orange']"
      ]
     },
     "execution_count": 273,
     "metadata": {},
     "output_type": "execute_result"
    }
   ],
   "source": [
    "grocery_list"
   ]
  },
  {
   "cell_type": "code",
   "execution_count": null,
   "id": "f04b1ea1-132c-4f21-b7dc-42c035ba1a72",
   "metadata": {},
   "outputs": [],
   "source": [
    "#del statement"
   ]
  },
  {
   "cell_type": "code",
   "execution_count": 275,
   "id": "0878fc10-a26c-4db5-a3d1-70b5ccc3ab77",
   "metadata": {},
   "outputs": [],
   "source": [
    "book_list = [\"Data str\", \"Algorithm\", \"Web\", \"Data str\"]"
   ]
  },
  {
   "cell_type": "code",
   "execution_count": 277,
   "id": "80adc63f-aa14-46c4-89b2-931367410b27",
   "metadata": {},
   "outputs": [],
   "source": [
    "book_list.clear()"
   ]
  },
  {
   "cell_type": "code",
   "execution_count": 279,
   "id": "6639b148-7d00-41b8-af93-c109511a9269",
   "metadata": {},
   "outputs": [
    {
     "data": {
      "text/plain": [
       "[]"
      ]
     },
     "execution_count": 279,
     "metadata": {},
     "output_type": "execute_result"
    }
   ],
   "source": [
    "book_list"
   ]
  },
  {
   "cell_type": "code",
   "execution_count": null,
   "id": "b6bc7102-6f11-4317-9d9a-a797d5792846",
   "metadata": {},
   "outputs": [],
   "source": [
    "book_list = [\"Data str\", \"Algorithm\", \"Web\", \"Data str\"]"
   ]
  },
  {
   "cell_type": "code",
   "execution_count": 285,
   "id": "29e28f1f-a050-4243-8bb4-d98735ec49b4",
   "metadata": {},
   "outputs": [],
   "source": [
    "del(book_list)"
   ]
  },
  {
   "cell_type": "code",
   "execution_count": 287,
   "id": "0bece790-df0e-4a64-bf73-fc5aa332812d",
   "metadata": {},
   "outputs": [
    {
     "ename": "NameError",
     "evalue": "name 'book_list' is not defined",
     "output_type": "error",
     "traceback": [
      "\u001b[1;31m---------------------------------------------------------------------------\u001b[0m",
      "\u001b[1;31mNameError\u001b[0m                                 Traceback (most recent call last)",
      "Cell \u001b[1;32mIn[287], line 1\u001b[0m\n\u001b[1;32m----> 1\u001b[0m book_list\n",
      "\u001b[1;31mNameError\u001b[0m: name 'book_list' is not defined"
     ]
    }
   ],
   "source": [
    "book_list"
   ]
  },
  {
   "cell_type": "code",
   "execution_count": 289,
   "id": "7425b360-0691-44df-9f36-4003e07fd514",
   "metadata": {},
   "outputs": [
    {
     "data": {
      "text/plain": [
       "'Data str'"
      ]
     },
     "execution_count": 289,
     "metadata": {},
     "output_type": "execute_result"
    }
   ],
   "source": [
    "book_list = [\"Data str\", \"Algorithm\", \"Web\", \"Data str\"]\n",
    "book_list.pop()"
   ]
  },
  {
   "cell_type": "code",
   "execution_count": 291,
   "id": "0a5f119a-71f1-4bb0-9f1d-25a011ec1d25",
   "metadata": {},
   "outputs": [
    {
     "data": {
      "text/plain": [
       "['Data str', 'Algorithm', 'Web']"
      ]
     },
     "execution_count": 291,
     "metadata": {},
     "output_type": "execute_result"
    }
   ],
   "source": [
    "book_list"
   ]
  },
  {
   "cell_type": "code",
   "execution_count": null,
   "id": "51c201a0-de70-4fad-8c02-5bdc90263e3f",
   "metadata": {},
   "outputs": [],
   "source": []
  },
  {
   "cell_type": "code",
   "execution_count": 305,
   "id": "04e3da07-d098-4e0f-aff1-db86899fc87a",
   "metadata": {},
   "outputs": [],
   "source": [
    "#list comprehension\n",
    "prices = [10, 20, 30, 40, 50]\n",
    "high_prices = []\n",
    "for i in prices:\n",
    "    high_prices.append(i*2)"
   ]
  },
  {
   "cell_type": "code",
   "execution_count": 295,
   "id": "542c2d5e-e21d-4c62-b21e-72712ce4531d",
   "metadata": {},
   "outputs": [
    {
     "data": {
      "text/plain": [
       "[20, 40, 60, 80, 100]"
      ]
     },
     "execution_count": 295,
     "metadata": {},
     "output_type": "execute_result"
    }
   ],
   "source": [
    "high_prices"
   ]
  },
  {
   "cell_type": "code",
   "execution_count": null,
   "id": "317232a2-c8d8-44e1-a0aa-37acdbf10c4c",
   "metadata": {},
   "outputs": [],
   "source": []
  },
  {
   "cell_type": "code",
   "execution_count": 313,
   "id": "20e90eff-fe09-46f1-abeb-df3f57adc233",
   "metadata": {},
   "outputs": [
    {
     "data": {
      "text/plain": [
       "['Ajay', 'Arun', 'Ravi', 'Sandeep']"
      ]
     },
     "execution_count": 313,
     "metadata": {},
     "output_type": "execute_result"
    }
   ],
   "source": [
    "names = [\"ajay\", \"arun\", \"ravi\", \"sandeep\"]\n",
    "[name.capitalize() for name in names]"
   ]
  },
  {
   "cell_type": "code",
   "execution_count": 323,
   "id": "01ef699a-d9ff-40c2-b524-345c3f048a2b",
   "metadata": {},
   "outputs": [
    {
     "data": {
      "text/plain": [
       "[1, 9, 25, 49, 81]"
      ]
     },
     "execution_count": 323,
     "metadata": {},
     "output_type": "execute_result"
    }
   ],
   "source": [
    "num = [1, 3, 5, 7, 9]\n",
    "[number**2 for number in num]"
   ]
  },
  {
   "cell_type": "code",
   "execution_count": null,
   "id": "c45b164b-9758-459e-b97c-5138bc80b384",
   "metadata": {},
   "outputs": [],
   "source": []
  },
  {
   "cell_type": "markdown",
   "id": "28255d6a-6ef5-42fd-bfe3-dc4d404988e2",
   "metadata": {},
   "source": [
    "4. Compare and contrast tuples and lists with examples"
   ]
  },
  {
   "cell_type": "code",
   "execution_count": 331,
   "id": "6896fb3e-4906-4204-871c-ce8beb991768",
   "metadata": {},
   "outputs": [],
   "source": [
    "#Lists are mutable , meaning you can change their conents, it consume more memory\n",
    "#while Tuples are immutable , meaning their elements cannot be changed after creation, Tuple consumes less memory\n",
    "# Similarities of list and tuples\n",
    "#Ordered\n",
    "#Indexing\n",
    "#slicing\n",
    "#Iterable\n",
    "#Heterogeneous\n",
    "#Nesting"
   ]
  },
  {
   "cell_type": "code",
   "execution_count": 333,
   "id": "7423ebf4-ef5f-49a6-af66-abc94cfe8b66",
   "metadata": {},
   "outputs": [],
   "source": [
    "#list is mutable"
   ]
  },
  {
   "cell_type": "code",
   "execution_count": null,
   "id": "4529e251-250c-4c58-8bbf-14cb12288b85",
   "metadata": {},
   "outputs": [],
   "source": [
    "z = [\"Milk\", \"Orange\", 1, 2.2, True, 5+8j]"
   ]
  },
  {
   "cell_type": "code",
   "execution_count": 335,
   "id": "88094403-4ed5-43eb-9923-835075e91a8f",
   "metadata": {},
   "outputs": [],
   "source": [
    "z[0] = 100"
   ]
  },
  {
   "cell_type": "code",
   "execution_count": 337,
   "id": "0093e300-2885-44d0-9130-d00017736d04",
   "metadata": {},
   "outputs": [
    {
     "data": {
      "text/plain": [
       "[100, 'Apple', 'Banana', 'Orange']"
      ]
     },
     "execution_count": 337,
     "metadata": {},
     "output_type": "execute_result"
    }
   ],
   "source": [
    "z"
   ]
  },
  {
   "cell_type": "code",
   "execution_count": 339,
   "id": "92f8456f-617b-4bbe-b6b7-b9fd852e828f",
   "metadata": {},
   "outputs": [],
   "source": [
    "#Tuples are immutable"
   ]
  },
  {
   "cell_type": "code",
   "execution_count": 341,
   "id": "efb14ac3-bcea-4c3d-ac19-75b01c7cdb15",
   "metadata": {},
   "outputs": [],
   "source": [
    "z = (\"Milk\", \"Orange\", 1, 2.2, True, 5+8j)"
   ]
  },
  {
   "cell_type": "code",
   "execution_count": 343,
   "id": "363db33a-458f-415d-b5bf-dc2c0deb2eef",
   "metadata": {},
   "outputs": [
    {
     "data": {
      "text/plain": [
       "tuple"
      ]
     },
     "execution_count": 343,
     "metadata": {},
     "output_type": "execute_result"
    }
   ],
   "source": [
    "type(z)"
   ]
  },
  {
   "cell_type": "code",
   "execution_count": 345,
   "id": "197f1c31-2939-4e76-ad5e-4c96241386fe",
   "metadata": {},
   "outputs": [
    {
     "ename": "TypeError",
     "evalue": "'tuple' object does not support item assignment",
     "output_type": "error",
     "traceback": [
      "\u001b[1;31m---------------------------------------------------------------------------\u001b[0m",
      "\u001b[1;31mTypeError\u001b[0m                                 Traceback (most recent call last)",
      "Cell \u001b[1;32mIn[345], line 1\u001b[0m\n\u001b[1;32m----> 1\u001b[0m z[\u001b[38;5;241m0\u001b[39m]\u001b[38;5;241m=\u001b[39m \u001b[38;5;241m100\u001b[39m\n",
      "\u001b[1;31mTypeError\u001b[0m: 'tuple' object does not support item assignment"
     ]
    }
   ],
   "source": [
    "z[0]= 100"
   ]
  },
  {
   "cell_type": "code",
   "execution_count": null,
   "id": "df1e82ba-2050-4abe-94ec-34c5f9e228ba",
   "metadata": {},
   "outputs": [],
   "source": []
  },
  {
   "cell_type": "markdown",
   "id": "00712b9c-bc55-4ddb-84f0-73b80f4225a3",
   "metadata": {},
   "source": [
    "5. Describe the key features of sets and provide examples of their use"
   ]
  },
  {
   "cell_type": "code",
   "execution_count": 359,
   "id": "f2f0316b-10c6-47fa-93bc-6f5bc88cc0c6",
   "metadata": {},
   "outputs": [],
   "source": [
    "#Sets are unique collection of elements and unordered.\n",
    "#It doesn't allow duplicate element\n",
    "# Indexing will not work because it is unordered"
   ]
  },
  {
   "cell_type": "code",
   "execution_count": 351,
   "id": "e9e0d2a3-4190-4822-a478-6d71353671c1",
   "metadata": {},
   "outputs": [],
   "source": [
    "s = {1, 2, 3, 4}"
   ]
  },
  {
   "cell_type": "code",
   "execution_count": 353,
   "id": "473421d5-abe7-4e3a-a02b-d2ac1a98b5d9",
   "metadata": {},
   "outputs": [
    {
     "data": {
      "text/plain": [
       "set"
      ]
     },
     "execution_count": 353,
     "metadata": {},
     "output_type": "execute_result"
    }
   ],
   "source": [
    "type(s)"
   ]
  },
  {
   "cell_type": "code",
   "execution_count": null,
   "id": "7162a9a5-b5bf-40c2-bb65-3ac28c043080",
   "metadata": {},
   "outputs": [],
   "source": [
    "#unique collection and doesn't allow duplicate element"
   ]
  },
  {
   "cell_type": "code",
   "execution_count": 355,
   "id": "f607aa5e-8d24-491d-b5c7-db7a43dc6204",
   "metadata": {},
   "outputs": [],
   "source": [
    "a = {1, 20, 5, 1, 5, 20, 5, \"Guru\", \"Kiran\", \"Guru\", \"guru\", \"Kiran\"}"
   ]
  },
  {
   "cell_type": "code",
   "execution_count": 357,
   "id": "2b11a6cf-589d-4722-a5d6-1c813b2ad83b",
   "metadata": {},
   "outputs": [
    {
     "data": {
      "text/plain": [
       "{1, 20, 5, 'Guru', 'Kiran', 'guru'}"
      ]
     },
     "execution_count": 357,
     "metadata": {},
     "output_type": "execute_result"
    }
   ],
   "source": [
    "a"
   ]
  },
  {
   "cell_type": "code",
   "execution_count": 361,
   "id": "d6871cec-5ed1-4cfa-9786-300e6f4d353b",
   "metadata": {},
   "outputs": [
    {
     "ename": "TypeError",
     "evalue": "'set' object is not subscriptable",
     "output_type": "error",
     "traceback": [
      "\u001b[1;31m---------------------------------------------------------------------------\u001b[0m",
      "\u001b[1;31mTypeError\u001b[0m                                 Traceback (most recent call last)",
      "Cell \u001b[1;32mIn[361], line 1\u001b[0m\n\u001b[1;32m----> 1\u001b[0m s[\u001b[38;5;241m0\u001b[39m]\n",
      "\u001b[1;31mTypeError\u001b[0m: 'set' object is not subscriptable"
     ]
    }
   ],
   "source": [
    "s[0]"
   ]
  },
  {
   "cell_type": "code",
   "execution_count": 365,
   "id": "588114b5-ce87-453c-9953-fe6662467174",
   "metadata": {},
   "outputs": [
    {
     "ename": "TypeError",
     "evalue": "unhashable type: 'set'",
     "output_type": "error",
     "traceback": [
      "\u001b[1;31m---------------------------------------------------------------------------\u001b[0m",
      "\u001b[1;31mTypeError\u001b[0m                                 Traceback (most recent call last)",
      "Cell \u001b[1;32mIn[365], line 1\u001b[0m\n\u001b[1;32m----> 1\u001b[0m s \u001b[38;5;241m=\u001b[39m {\u001b[38;5;241m1\u001b[39m,\u001b[38;5;241m2\u001b[39m,\u001b[38;5;241m3\u001b[39m,\u001b[38;5;241m4\u001b[39m, {\u001b[38;5;241m4\u001b[39m,\u001b[38;5;241m5\u001b[39m,\u001b[38;5;241m6\u001b[39m}}\n",
      "\u001b[1;31mTypeError\u001b[0m: unhashable type: 'set'"
     ]
    }
   ],
   "source": [
    "s = {1,2,3,4, {4,5,6}}"
   ]
  },
  {
   "cell_type": "code",
   "execution_count": null,
   "id": "a77e965e-4c80-4465-8338-a17f28fb6559",
   "metadata": {},
   "outputs": [],
   "source": []
  },
  {
   "cell_type": "markdown",
   "id": "3773fe55-766a-4390-acff-b7212bb0a9ea",
   "metadata": {},
   "source": [
    "6. Discuss the use cases of tuples and sets in Python programming"
   ]
  },
  {
   "cell_type": "code",
   "execution_count": 5,
   "id": "27550974-456b-448f-94e7-f2a0f5d7cbe1",
   "metadata": {},
   "outputs": [],
   "source": [
    "#Tuples\n",
    "#Tuples are used to store multiple items in a single variable. Heterogeneous and homogeneous data\n",
    "#Tuple is one of 4 built in data type types in python used to store collections of data, the other 3 are list,set, and Dictionary, all with different quualities and usage"
   ]
  },
  {
   "cell_type": "code",
   "execution_count": 9,
   "id": "83c41c3c-432e-4deb-b47b-3f2cd97ca123",
   "metadata": {},
   "outputs": [],
   "source": [
    "#Sets\n",
    "#set is a collection which is unorered, unchangeable, and unindexed\n",
    "#Sets are computing standard math operations such as union, intersection, difference and symmetric difference."
   ]
  },
  {
   "cell_type": "code",
   "execution_count": null,
   "id": "46fff005-fee3-4024-96b9-56ca9e6355ee",
   "metadata": {},
   "outputs": [],
   "source": []
  },
  {
   "cell_type": "markdown",
   "id": "54886b5f-5ff7-4cd2-a910-92d2cbd0c822",
   "metadata": {},
   "source": [
    "7. Describe how to add, modify, and delete items in a dictionary with examples"
   ]
  },
  {
   "cell_type": "code",
   "execution_count": 13,
   "id": "7a27c388-bc84-44e4-a13e-2e0bc4d1f85a",
   "metadata": {},
   "outputs": [],
   "source": [
    "#Dictionary used to store key-value pairs, They are unordered, mutable and can contain any python objects as values"
   ]
  },
  {
   "cell_type": "code",
   "execution_count": 23,
   "id": "d1380205-ac76-43c2-9d22-0ccc1121b9c5",
   "metadata": {},
   "outputs": [],
   "source": [
    "d = {\"name\": \"Arun\", \"email\": \"arun2545@gmail.com\", \"phone no.\": \"7200464420\"}"
   ]
  },
  {
   "cell_type": "code",
   "execution_count": 25,
   "id": "db3bac6f-5518-4648-9077-5e670334bb9b",
   "metadata": {},
   "outputs": [
    {
     "data": {
      "text/plain": [
       "{'name': 'Arun', 'email': 'arun2545@gmail.com', 'phone no.': '7200464420'}"
      ]
     },
     "execution_count": 25,
     "metadata": {},
     "output_type": "execute_result"
    }
   ],
   "source": [
    "d"
   ]
  },
  {
   "cell_type": "code",
   "execution_count": 31,
   "id": "9b48616e-c0d5-49fb-863c-d338214075fd",
   "metadata": {},
   "outputs": [
    {
     "data": {
      "text/plain": [
       "'arun2545@gmail.com'"
      ]
     },
     "execution_count": 31,
     "metadata": {},
     "output_type": "execute_result"
    }
   ],
   "source": [
    "d[\"email\"]"
   ]
  },
  {
   "cell_type": "code",
   "execution_count": 33,
   "id": "5d46b7b1-5c02-4afc-b0a6-c1ff80246491",
   "metadata": {},
   "outputs": [],
   "source": [
    "d[\"name\"]= \"Guru\""
   ]
  },
  {
   "cell_type": "code",
   "execution_count": 35,
   "id": "affbc6da-6287-424c-9f00-bd42e3401759",
   "metadata": {},
   "outputs": [
    {
     "data": {
      "text/plain": [
       "{'name': 'Guru', 'email': 'arun2545@gmail.com', 'phone no.': '7200464420'}"
      ]
     },
     "execution_count": 35,
     "metadata": {},
     "output_type": "execute_result"
    }
   ],
   "source": [
    "d"
   ]
  },
  {
   "cell_type": "code",
   "execution_count": 37,
   "id": "929c0ce3-5d98-49fc-a7b1-c594e2d6c397",
   "metadata": {},
   "outputs": [],
   "source": [
    "del d[\"name\"]"
   ]
  },
  {
   "cell_type": "code",
   "execution_count": 39,
   "id": "8f6ca278-94a1-4510-a967-81de732f9af5",
   "metadata": {},
   "outputs": [
    {
     "data": {
      "text/plain": [
       "{'email': 'arun2545@gmail.com', 'phone no.': '7200464420'}"
      ]
     },
     "execution_count": 39,
     "metadata": {},
     "output_type": "execute_result"
    }
   ],
   "source": [
    "d"
   ]
  },
  {
   "cell_type": "code",
   "execution_count": 43,
   "id": "b249c4a1-ac59-45e5-8fa0-b65f73701763",
   "metadata": {},
   "outputs": [],
   "source": [
    "del d"
   ]
  },
  {
   "cell_type": "code",
   "execution_count": 45,
   "id": "4f2f4827-e935-4ea3-a6cc-003cfb5096fd",
   "metadata": {},
   "outputs": [
    {
     "ename": "NameError",
     "evalue": "name 'd' is not defined",
     "output_type": "error",
     "traceback": [
      "\u001b[1;31m---------------------------------------------------------------------------\u001b[0m",
      "\u001b[1;31mNameError\u001b[0m                                 Traceback (most recent call last)",
      "Cell \u001b[1;32mIn[45], line 1\u001b[0m\n\u001b[1;32m----> 1\u001b[0m d\n",
      "\u001b[1;31mNameError\u001b[0m: name 'd' is not defined"
     ]
    }
   ],
   "source": [
    "d"
   ]
  },
  {
   "cell_type": "code",
   "execution_count": 47,
   "id": "79f91609-3648-4e67-b7a9-165aa81d4ecc",
   "metadata": {},
   "outputs": [],
   "source": [
    "d = {\"name\": \"Arun\", \"email\": \"arun2545@gmail.com\", \"phone no.\": \"7200464420\"}"
   ]
  },
  {
   "cell_type": "code",
   "execution_count": 49,
   "id": "731a6683-bd1e-4ab2-9c89-c5c9777c09fe",
   "metadata": {},
   "outputs": [],
   "source": [
    "d.clear()"
   ]
  },
  {
   "cell_type": "code",
   "execution_count": 51,
   "id": "576ecd53-70ba-4262-bb47-9adf8f05b005",
   "metadata": {},
   "outputs": [
    {
     "data": {
      "text/plain": [
       "{}"
      ]
     },
     "execution_count": 51,
     "metadata": {},
     "output_type": "execute_result"
    }
   ],
   "source": [
    "d"
   ]
  },
  {
   "cell_type": "code",
   "execution_count": 53,
   "id": "b49ca340-c9dd-4b2d-a47a-aa69adf543eb",
   "metadata": {},
   "outputs": [],
   "source": [
    "d = {\"name\": \"Arun\", \"email\": \"arun2545@gmail.com\", \"phone no.\": \"7200464420\"}"
   ]
  },
  {
   "cell_type": "code",
   "execution_count": 55,
   "id": "c58388a0-5aa0-43fd-81a3-d1aed8c18d95",
   "metadata": {},
   "outputs": [
    {
     "data": {
      "text/plain": [
       "3"
      ]
     },
     "execution_count": 55,
     "metadata": {},
     "output_type": "execute_result"
    }
   ],
   "source": [
    "len(d)"
   ]
  },
  {
   "cell_type": "code",
   "execution_count": null,
   "id": "29e7481c-c863-466c-9434-f2cfe010190e",
   "metadata": {},
   "outputs": [],
   "source": []
  },
  {
   "cell_type": "markdown",
   "id": "6c245aa8-2603-4d55-ba19-3526fd03e462",
   "metadata": {},
   "source": [
    "8. Discuss the importance of dictionary keys being immutable and provide examples"
   ]
  },
  {
   "cell_type": "code",
   "execution_count": 59,
   "id": "706e36f5-25a5-4664-9fcd-d093f577983d",
   "metadata": {},
   "outputs": [],
   "source": [
    "#If the key were a mutable object , its value could change and thus its hash could also change.\n",
    "# but since whoever changes the key object can't tell that it was being used as a dictionary key , it can't move the entry around in the dictionary"
   ]
  },
  {
   "cell_type": "code",
   "execution_count": 65,
   "id": "277ba5bc-d599-49a9-ba40-37af135bdc02",
   "metadata": {},
   "outputs": [
    {
     "ename": "TypeError",
     "evalue": "unhashable type: 'list'",
     "output_type": "error",
     "traceback": [
      "\u001b[1;31m---------------------------------------------------------------------------\u001b[0m",
      "\u001b[1;31mTypeError\u001b[0m                                 Traceback (most recent call last)",
      "Cell \u001b[1;32mIn[65], line 1\u001b[0m\n\u001b[1;32m----> 1\u001b[0m \u001b[38;5;28mdict\u001b[39m\u001b[38;5;241m=\u001b[39m {[\u001b[38;5;241m1\u001b[39m,\u001b[38;5;241m2\u001b[39m]: \u001b[38;5;124m\"\u001b[39m\u001b[38;5;124mGuru\u001b[39m\u001b[38;5;124m\"\u001b[39m}\n",
      "\u001b[1;31mTypeError\u001b[0m: unhashable type: 'list'"
     ]
    }
   ],
   "source": [
    "dict= {[1,2]: \"Guru\"}"
   ]
  },
  {
   "cell_type": "code",
   "execution_count": 70,
   "id": "86fce9aa-de52-4390-90e6-4c92eaff8d71",
   "metadata": {},
   "outputs": [],
   "source": [
    "dict = {\"name\": [1,2,3,4]}"
   ]
  },
  {
   "cell_type": "code",
   "execution_count": 74,
   "id": "13a3bc08-1c0e-4dca-acc6-fb974b606292",
   "metadata": {},
   "outputs": [
    {
     "data": {
      "text/plain": [
       "[1, 2, 3, 4]"
      ]
     },
     "execution_count": 74,
     "metadata": {},
     "output_type": "execute_result"
    }
   ],
   "source": [
    "dict[\"name\"]"
   ]
  },
  {
   "cell_type": "code",
   "execution_count": 78,
   "id": "9637cedd-14c3-4a72-b8bd-805710595f04",
   "metadata": {},
   "outputs": [
    {
     "ename": "SyntaxError",
     "evalue": "invalid syntax (971146766.py, line 1)",
     "output_type": "error",
     "traceback": [
      "\u001b[1;36m  Cell \u001b[1;32mIn[78], line 1\u001b[1;36m\u001b[0m\n\u001b[1;33m    d = {&: \"Ram\"}\u001b[0m\n\u001b[1;37m         ^\u001b[0m\n\u001b[1;31mSyntaxError\u001b[0m\u001b[1;31m:\u001b[0m invalid syntax\n"
     ]
    }
   ],
   "source": [
    "d = {&: \"Ram\"}"
   ]
  },
  {
   "cell_type": "code",
   "execution_count": 80,
   "id": "6e5e4b6e-6f69-43fe-b339-afe1b65cd5c4",
   "metadata": {},
   "outputs": [
    {
     "ename": "TypeError",
     "evalue": "unhashable type: 'set'",
     "output_type": "error",
     "traceback": [
      "\u001b[1;31m---------------------------------------------------------------------------\u001b[0m",
      "\u001b[1;31mTypeError\u001b[0m                                 Traceback (most recent call last)",
      "Cell \u001b[1;32mIn[80], line 1\u001b[0m\n\u001b[1;32m----> 1\u001b[0m d \u001b[38;5;241m=\u001b[39m {{\u001b[38;5;124m\"\u001b[39m\u001b[38;5;124mk: 123\u001b[39m\u001b[38;5;124m\"\u001b[39m}: \u001b[38;5;124m\"\u001b[39m\u001b[38;5;124mArun\u001b[39m\u001b[38;5;124m\"\u001b[39m}\n",
      "\u001b[1;31mTypeError\u001b[0m: unhashable type: 'set'"
     ]
    }
   ],
   "source": [
    "d = {{\"k: 123\"}: \"Arun\"}"
   ]
  },
  {
   "cell_type": "code",
   "execution_count": 90,
   "id": "8f23dbac-75f1-4e15-89e3-dd8cb26b529d",
   "metadata": {},
   "outputs": [],
   "source": [
    "d = {\"name\": [\"Ram\", \"Naveen\", \"Tanu\",12,13], \"phone no\": 9901154862}"
   ]
  },
  {
   "cell_type": "code",
   "execution_count": 92,
   "id": "71ed70dc-a015-4f4d-97d0-735f79fd53b6",
   "metadata": {},
   "outputs": [
    {
     "data": {
      "text/plain": [
       "'Ram'"
      ]
     },
     "execution_count": 92,
     "metadata": {},
     "output_type": "execute_result"
    }
   ],
   "source": [
    "d[\"name\"][0]"
   ]
  },
  {
   "cell_type": "code",
   "execution_count": 94,
   "id": "bf91adcb-7de5-456a-ae5c-c74f24ddf93c",
   "metadata": {},
   "outputs": [
    {
     "data": {
      "text/plain": [
       "'Tanu'"
      ]
     },
     "execution_count": 94,
     "metadata": {},
     "output_type": "execute_result"
    }
   ],
   "source": [
    "d[\"name\"][2]"
   ]
  },
  {
   "cell_type": "code",
   "execution_count": null,
   "id": "63472d49-a51b-4ef6-bf29-ca6dacefaedc",
   "metadata": {},
   "outputs": [],
   "source": []
  }
 ],
 "metadata": {
  "kernelspec": {
   "display_name": "Python 3 (ipykernel)",
   "language": "python",
   "name": "python3"
  },
  "language_info": {
   "codemirror_mode": {
    "name": "ipython",
    "version": 3
   },
   "file_extension": ".py",
   "mimetype": "text/x-python",
   "name": "python",
   "nbconvert_exporter": "python",
   "pygments_lexer": "ipython3",
   "version": "3.12.4"
  }
 },
 "nbformat": 4,
 "nbformat_minor": 5
}
